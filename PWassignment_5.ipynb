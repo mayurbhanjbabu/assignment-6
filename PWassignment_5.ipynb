{
  "nbformat": 4,
  "nbformat_minor": 0,
  "metadata": {
    "colab": {
      "provenance": []
    },
    "kernelspec": {
      "name": "python3",
      "display_name": "Python 3"
    },
    "language_info": {
      "name": "python"
    }
  },
  "cells": [
    {
      "cell_type": "markdown",
      "source": [
        "\n",
        "1. What is NumPy, and why is it widely used in Python?\n",
        "\n",
        "Answer:\n",
        "NumPy (Numerical Python) is a core scientific computing library in Python. It provides support for:\n",
        "\n",
        "N-dimensional arrays (ndarray)\n",
        "\n",
        "Fast mathematical operations\n",
        "\n",
        "Tools for integrating with C/C++\n",
        "\n",
        "Linear algebra, Fourier transforms, and random number tools\n",
        "It’s widely used because it enables fast, memory-efficient numerical computations and is the foundation for libraries like Pandas, SciPy, and scikit-learn.\n",
        "\n",
        "2. How does broadcasting work in NumPy?\n",
        "\n",
        "Answer:\n",
        "Broadcasting allows NumPy to perform operations on arrays of different shapes. It automatically expands the smaller array along the mismatched dimension(s) to match the larger array without copying data.\n",
        "Example:\n",
        "\n",
        "python\n",
        "Copy\n",
        "Edit\n",
        "a = np.array([1, 2, 3])         # shape (3,)\n",
        "b = np.array([[10], [20]])      # shape (2,1)\n",
        "c = a + b                       # shape (2,3) due to broadcasting\n",
        "\n",
        "3. What is a Pandas DataFrame?\n",
        "\n",
        "Answer:\n",
        "A Pandas DataFrame is a 2-dimensional labeled data structure with columns of potentially different types. It’s like a spreadsheet or SQL table and supports indexing, slicing, and a wide range of data manipulation functions.\n",
        "\n",
        "4. Explain the use of the groupby() method in Pandas.\n",
        "\n",
        "Answer:\n",
        "The groupby() method groups data based on one or more keys and applies a function to each group. It’s used for aggregating, transforming, and filtering datasets.\n",
        "Example:\n",
        "\n",
        "df.groupby('category')['sales'].sum()\n",
        "\n",
        "5. Why is Seaborn preferred for statistical visualizations?\n",
        "\n",
        "Answer:\n",
        "\n",
        "Seaborn is preferred because it provides:\n",
        "\n",
        "High-level interface for drawing attractive, informative graphs\n",
        "\n",
        "Built-in support for statistical plots (like boxplots, violin plots, regression plots)\n",
        "\n",
        "Seamless integration with Pandas DataFrames\n",
        "\n",
        "Better default aesthetics than Matplotlib\n",
        "\n",
        "6. What are the differences between NumPy arrays and Python lists?\n",
        "\n",
        "Answer:\n",
        "\n",
        "Feature\tNumPy Array\tPython List\n",
        "Data Type\tHomogeneous\tHeterogeneous\n",
        "Performance\tFaster (C-optimized)\tSlower\n",
        "Operations\tElement-wise\tRequires loops\n",
        "Memory Usage\tEfficient\tLess efficient\n",
        "\n",
        "7. What is a heatmap, and when should it be used?\n",
        "\n",
        "Answer:\n",
        "A heatmap is a 2D visualization that uses color to represent values in a matrix.\n",
        "Use cases:\n",
        "\n",
        "Correlation matrices\n",
        "\n",
        "Confusion matrices\n",
        "\n",
        "Visualizing intensity/density in grids\n",
        "\n",
        "Example using Seaborn:\n",
        "\n",
        "sns.heatmap(data.corr(), annot=True)\n",
        "\n",
        "8. What does the term “vectorized operation” mean in NumPy?\n",
        "\n",
        "Answer:\n",
        "A vectorized operation is an element-wise operation performed directly on entire arrays, without explicit Python loops. This is more efficient and faster.\n",
        "Example:\n",
        "\n",
        "a = np.array([1, 2, 3])\n",
        "b = a * 2  # Multiplies each element\n",
        "\n",
        "9. How does Matplotlib differ from Plotly?\n",
        "\n",
        "Answer:\n",
        "\n",
        "Feature\tMatplotlib\tPlotly\n",
        "Output\tStatic plots (PNG, PDF)\tInteractive (HTML, JS)\n",
        "Ease of Use\tSimpler for basics\tBetter for interactivity\n",
        "Use Cases\tPublication graphics\tWeb dashboards, rich plots\n",
        "Interactivity\tLimited\tHigh (zoom, hover, etc.)\n",
        "\n",
        "10. What is the significance of hierarchical indexing in Pandas?\n",
        "\n",
        "Answer:\n",
        "Hierarchical (MultiIndex) indexing allows multiple index levels on rows and/or columns. It supports more complex data representations and facilitates:\n",
        "\n",
        "Multi-dimensional grouping\n",
        "\n",
        "Reshaping with stack() and unstack()\n",
        "\n",
        "11. What is the role of Seaborn’s pairplot() function?\n",
        "\n",
        "Answer:\n",
        "pairplot() creates a matrix of scatter plots showing pairwise relationships and histograms for variables in a dataset. It’s ideal for initial data exploration.\n",
        "\n",
        "sns.pairplot(df, hue='species')\n",
        "\n",
        "12. What is the purpose of the describe() function in Pandas?\n",
        "\n",
        "Answer:\n",
        "describe() provides summary statistics for numeric columns:\n",
        "\n",
        "Count, mean, std, min, 25%, 50%, 75%, max\n",
        "\n",
        "df.describe()\n",
        "\n",
        "13. Why is handling missing data important in Pandas?\n",
        "\n",
        "Answer:\n",
        "Missing data can skew results and lead to incorrect analyses. Pandas provides methods to:\n",
        "\n",
        "Detect (isnull())\n",
        "\n",
        "Drop (dropna())\n",
        "\n",
        "Fill (fillna())\n",
        "\n",
        "14. What are the benefits of using Plotly for data visualization?\n",
        "\n",
        "Answer:\n",
        "\n",
        "Fully interactive graphs (hover, zoom, pan)\n",
        "\n",
        "Easy export to web formats\n",
        "\n",
        "3D and map plotting support\n",
        "\n",
        "Integration with Dash for dashboards\n",
        "\n",
        "15. How does NumPy handle multidimensional arrays?\n",
        "\n",
        "Answer:\n",
        "\n",
        "NumPy’s ndarray can represent arrays of any dimension. It supports:\n",
        "\n",
        "Shape manipulation\n",
        "\n",
        "Indexing/slicing\n",
        "\n",
        "Operations along specific axes\n",
        "\n",
        "Example:\n",
        "\n",
        "a = np.array([[1, 2], [3, 4]])\n",
        "\n",
        "16. What is the role of Bokeh in data visualization?\n",
        "\n",
        "Answer:\n",
        "\n",
        "Bokeh is a Python library for interactive, browser-based visualizations. It supports:\n",
        "\n",
        "Streaming and real-time updates\n",
        "\n",
        "Dashboards with linked interactions\n",
        "\n",
        "JavaScript callbacks for interactivity\n",
        "\n",
        "17. Explain the difference between apply() and map() in Pandas.\n",
        "\n",
        "Answer:\n",
        "\n",
        "Feature\tmap()\tapply()\n",
        "Works on\tSeries only\tSeries and DataFrames\n",
        "Function\tElement-wise functions\tCan apply row/column-wise\n",
        "Use Case\tSimple substitutions/mapping\tComplex row/column operations\n",
        "\n",
        "18. What are some advanced features of NumPy?\n",
        "\n",
        "Answer:\n",
        "\n",
        "Broadcasting\n",
        "\n",
        "Structured arrays (with multiple data types)\n",
        "\n",
        "Universal functions (ufunc)\n",
        "\n",
        "Memory mapping\n",
        "\n",
        "Vectorization\n",
        "\n",
        "Random sampling and matrix ops\n",
        "\n",
        "19. How does Pandas simplify time series analysis?\n",
        "\n",
        "Answer:\n",
        "\n",
        "Pandas provides built-in features for time series:\n",
        "\n",
        "DatetimeIndex for time-aware indexing\n",
        "\n",
        "resample() for frequency conversion\n",
        "\n",
        "rolling() and expanding() for window functions\n",
        "\n",
        "Time shifting with shift()\n",
        "\n",
        "20. What is the role of a pivot table in Pandas?\n",
        "\n",
        "Answer:\n",
        "A pivot table summarizes data by reshaping and aggregating it based on column values.\n",
        "\n",
        "df.pivot_table(values='sales', index='region', columns='month', aggfunc='sum')\n",
        "\n",
        "21. Why is NumPy’s array slicing faster than Python’s list slicing?\n",
        "\n",
        "Answer:\n",
        "\n",
        "NumPy arrays are stored in contiguous memory and use efficient C-level operations. Python lists store references (not values), so slicing involves more overhead.\n",
        "\n",
        "22. What are some common use cases for Seaborn?\n",
        "\n",
        "Answer:\n",
        "\n",
        "Visualizing distributions (histplot, kdeplot)\n",
        "\n",
        "Statistical plots (boxplot, violinplot, swarmplot)\n",
        "\n",
        "Categorical data comparisons\n",
        "\n",
        "Correlation matrices (heatmap)\n",
        "\n",
        "Pairwise plots (pairplot)"
      ],
      "metadata": {
        "id": "Y3XqKni1U-3I"
      }
    },
    {
      "cell_type": "markdown",
      "source": [
        " 1. Create a 2D NumPy array and calculate the sum of each row"
      ],
      "metadata": {
        "id": "DdCkEqWXejOv"
      }
    },
    {
      "cell_type": "code",
      "source": [
        "import numpy as np\n",
        "\n",
        "# Creating a 2D NumPy array\n",
        "arr = np.array([[1, 2, 3], [4, 5, 6], [7, 8, 9]])\n",
        "\n",
        "# Calculating the sum of each row\n",
        "row_sums = np.sum(arr, axis=1)\n",
        "\n",
        "print(\"2D Array:\\n\", arr)\n",
        "print(\"Sum of each row:\", row_sums)\n"
      ],
      "metadata": {
        "colab": {
          "base_uri": "https://localhost:8080/"
        },
        "id": "-zA-HJ6MfPEI",
        "outputId": "ea5fbe77-09ad-4f1e-931f-18c79cbcf5c1"
      },
      "execution_count": 2,
      "outputs": [
        {
          "output_type": "stream",
          "name": "stdout",
          "text": [
            "2D Array:\n",
            " [[1 2 3]\n",
            " [4 5 6]\n",
            " [7 8 9]]\n",
            "Sum of each row: [ 6 15 24]\n"
          ]
        }
      ]
    },
    {
      "cell_type": "markdown",
      "source": [
        "Write a Pandas script to find the mean of a specific column in a DataFrame"
      ],
      "metadata": {
        "id": "KeghT8DOfiQ8"
      }
    },
    {
      "cell_type": "code",
      "source": [
        "import pandas as pd\n",
        "\n",
        "# Sample DataFrame\n",
        "data = {'Name': ['Alice', 'Bob', 'Charlie', 'David'],\n",
        "        'Age': [25, 30, 35, 40],\n",
        "        'Score': [85, 90, 78, 88]}\n",
        "\n",
        "df = pd.DataFrame(data)\n",
        "\n",
        "# Finding the mean of a specific column\n",
        "column_name = 'Age'  # Change this to any column you want\n",
        "mean_value = df[column_name].mean()\n",
        "\n",
        "print(f\"The mean of column '{column_name}' is: {mean_value}\")\n"
      ],
      "metadata": {
        "colab": {
          "base_uri": "https://localhost:8080/"
        },
        "id": "XF-2wHJ-frtK",
        "outputId": "49748e0a-9edc-448c-caa2-8d5925429d71"
      },
      "execution_count": 3,
      "outputs": [
        {
          "output_type": "stream",
          "name": "stdout",
          "text": [
            "The mean of column 'Age' is: 32.5\n"
          ]
        }
      ]
    },
    {
      "cell_type": "markdown",
      "source": [
        "Create a scatter plot using Matplotlib"
      ],
      "metadata": {
        "id": "nvnaR4BtfzuX"
      }
    },
    {
      "cell_type": "code",
      "source": [
        "import matplotlib.pyplot as plt\n",
        "\n",
        "# Sample data\n",
        "x = [10, 20, 30, 40, 50]\n",
        "y = [100, 200, 300, 400, 500]\n",
        "\n",
        "# Creating a scatter plot\n",
        "plt.scatter(x, y, color='blue', marker='o', label='Data points')\n",
        "\n",
        "# Adding labels and title\n",
        "plt.xlabel(\"X-axis\")\n",
        "plt.ylabel(\"Y-axis\")\n",
        "plt.title(\"Scatter Plot Example\")\n",
        "plt.legend()\n",
        "\n",
        "# Displaying the plot\n",
        "plt.show()\n"
      ],
      "metadata": {
        "colab": {
          "base_uri": "https://localhost:8080/",
          "height": 472
        },
        "id": "wIJUnqiaf5u8",
        "outputId": "e9358930-7e32-4541-8539-f7fd49cd7dd1"
      },
      "execution_count": 4,
      "outputs": [
        {
          "output_type": "display_data",
          "data": {
            "text/plain": [
              "<Figure size 640x480 with 1 Axes>"
            ],
            "image/png": "[encoded data removed]"
          },
          "metadata": {}
        }
      ]
    },
    {
      "cell_type": "markdown",
      "source": [
        "How do you calculate the correlation matrix using Seaborn and visualize it with a heatmap"
      ],
      "metadata": {
        "id": "pZd3cd6zgK_Y"
      }
    },
    {
      "cell_type": "code",
      "source": [
        "import pandas as pd\n",
        "import seaborn as sns\n",
        "import matplotlib.pyplot as plt\n",
        "\n",
        "# Sample DataFrame\n",
        "data = {'A': [10, 20, 30, 40, 50],\n",
        "        'B': [15, 25, 35, 45, 55],\n",
        "        'C': [100, 200, 300, 400, 500]}\n",
        "\n",
        "df = pd.DataFrame(data)\n",
        "\n",
        "# Calculating the correlation matrix\n",
        "corr_matrix = df.corr()\n",
        "\n",
        "# Visualizing the correlation matrix with a heatmap\n",
        "plt.figure(figsize=(6, 4))\n",
        "sns.heatmap(corr_matrix, annot=True, cmap='coolwarm', fmt=\".2f\", linewidths=0.5)\n",
        "plt.title(\"Correlation Matrix Heatmap\")\n",
        "plt.show()\n"
      ],
      "metadata": {
        "colab": {
          "base_uri": "https://localhost:8080/",
          "height": 391
        },
        "id": "63gknK76gVq4",
        "outputId": "57555f77-3779-450a-829d-cd3f2fae884f"
      },
      "execution_count": 5,
      "outputs": [
        {
          "output_type": "display_data",
          "data": {
            "text/plain": [
              "<Figure size 600x400 with 2 Axes>"
            ],
            "image/png": "[encoded data removed]"
          },
          "metadata": {}
        }
      ]
    },
    {
      "cell_type": "markdown",
      "source": [
        "Generate a bar plotly"
      ],
      "metadata": {
        "id": "p3M6GDKCgfj4"
      }
    },
    {
      "cell_type": "code",
      "source": [
        "import plotly.express as px\n",
        "\n",
        "# Sample data\n",
        "data = {'Category': ['A', 'B', 'C', 'D'],\n",
        "        'Values': [10, 20, 30, 40]}\n",
        "\n",
        "# Creating a bar plot\n",
        "fig = px.bar(data, x='Category', y='Values', title=\"Bar Plot Example\",\n",
        "             labels={'Category': 'Categories', 'Values': 'Values'},\n",
        "             color='Category', text='Values')\n",
        "\n",
        "# Displaying the plot\n",
        "fig.show()\n"
      ],
      "metadata": {
        "colab": {
          "base_uri": "https://localhost:8080/",
          "height": 542
        },
        "id": "jhEzGRLVgsVS",
        "outputId": "ae321cd3-9a74-46f8-8c07-015ffa5db90e"
      },
      "execution_count": 6,
      "outputs": [
        {
          "output_type": "display_data",
          "data": {
            "text/html": [
              "<html>\n",
              "<head><meta charset=\"utf-8\" /></head>\n",
              "<body>\n",
              "    <div>            <script src=\"https://cdnjs.cloudflare.com/ajax/libs/mathjax/2.7.5/MathJax.js?config=TeX-AMS-MML_SVG\"></script><script type=\"text/javascript\">if (window.MathJax && window.MathJax.Hub && window.MathJax.Hub.Config) {window.MathJax.Hub.Config({SVG: {font: \"STIX-Web\"}});}</script>                <script type=\"text/javascript\">window.PlotlyConfig = {MathJaxConfig: 'local'};</script>\n",
              "        <script charset=\"utf-8\" src=\"https://cdn.plot.ly/plotly-2.35.2.min.js\"></script>                <div id=\"bc32a8f1-6935-4a7b-8e4f-553467db7af2\" class=\"plotly-graph-div\" style=\"height:525px; width:100%;\"></div>            <script type=\"text/javascript\">                                    window.PLOTLYENV=window.PLOTLYENV || {};                                    if (document.getElementById(\"bc32a8f1-6935-4a7b-8e4f-553467db7af2\")) {                    Plotly.newPlot(                        \"bc32a8f1-6935-4a7b-8e4f-553467db7af2\",                        [{\"alignmentgroup\":\"True\",\"hovertemplate\":\"Categories=%{x}\\u003cbr\\u003eValues=%{text}\\u003cextra\\u003e\\u003c\\u002fextra\\u003e\",\"legendgroup\":\"A\",\"marker\":{\"color\":\"#636efa\",\"pattern\":{\"shape\":\"\"}},\"name\":\"A\",\"offsetgroup\":\"A\",\"orientation\":\"v\",\"showlegend\":true,\"text\":[10.0],\"textposition\":\"auto\",\"x\":[\"A\"],\"xaxis\":\"x\",\"y\":[10],\"yaxis\":\"y\",\"type\":\"bar\"},{\"alignmentgroup\":\"True\",\"hovertemplate\":\"Categories=%{x}\\u003cbr\\u003eValues=%{text}\\u003cextra\\u003e\\u003c\\u002fextra\\u003e\",\"legendgroup\":\"B\",\"marker\":{\"color\":\"#EF553B\",\"pattern\":{\"shape\":\"\"}},\"name\":\"B\",\"offsetgroup\":\"B\",\"orientation\":\"v\",\"showlegend\":true,\"text\":[20.0],\"textposition\":\"auto\",\"x\":[\"B\"],\"xaxis\":\"x\",\"y\":[20],\"yaxis\":\"y\",\"type\":\"bar\"},{\"alignmentgroup\":\"True\",\"hovertemplate\":\"Categories=%{x}\\u003cbr\\u003eValues=%{text}\\u003cextra\\u003e\\u003c\\u002fextra\\u003e\",\"legendgroup\":\"C\",\"marker\":{\"color\":\"#00cc96\",\"pattern\":{\"shape\":\"\"}},\"name\":\"C\",\"offsetgroup\":\"C\",\"orientation\":\"v\",\"showlegend\":true,\"text\":[30.0],\"textposition\":\"auto\",\"x\":[\"C\"],\"xaxis\":\"x\",\"y\":[30],\"yaxis\":\"y\",\"type\":\"bar\"},{\"alignmentgroup\":\"True\",\"hovertemplate\":\"Categories=%{x}\\u003cbr\\u003eValues=%{text}\\u003cextra\\u003e\\u003c\\u002fextra\\u003e\",\"legendgroup\":\"D\",\"marker\":{\"color\":\"#ab63fa\",\"pattern\":{\"shape\":\"\"}},\"name\":\"D\",\"offsetgroup\":\"D\",\"orientation\":\"v\",\"showlegend\":true,\"text\":[40.0],\"textposition\":\"auto\",\"x\":[\"D\"],\"xaxis\":\"x\",\"y\":[40],\"yaxis\":\"y\",\"type\":\"bar\"}],                        {\"template\":{\"data\":{\"histogram2dcontour\":[{\"type\":\"histogram2dcontour\",\"colorbar\":{\"outlinewidth\":0,\"ticks\":\"\"},\"colorscale\":[[0.0,\"#0d0887\"],[0.1111111111111111,\"#46039f\"],[0.2222222222222222,\"#7201a8\"],[0.3333333333333333,\"#9c179e\"],[0.4444444444444444,\"#bd3786\"],[0.5555555555555556,\"#d8576b\"],[0.6666666666666666,\"#ed7953\"],[0.7777777777777778,\"#fb9f3a\"],[0.8888888888888888,\"#fdca26\"],[1.0,\"#f0f921\"]]}],\"choropleth\":[{\"type\":\"choropleth\",\"colorbar\":{\"outlinewidth\":0,\"ticks\":\"\"}}],\"histogram2d\":[{\"type\":\"histogram2d\",\"colorbar\":{\"outlinewidth\":0,\"ticks\":\"\"},\"colorscale\":[[0.0,\"#0d0887\"],[0.1111111111111111,\"#46039f\"],[0.2222222222222222,\"#7201a8\"],[0.3333333333333333,\"#9c179e\"],[0.4444444444444444,\"#bd3786\"],[0.5555555555555556,\"#d8576b\"],[0.6666666666666666,\"#ed7953\"],[0.7777777777777778,\"#fb9f3a\"],[0.8888888888888888,\"#fdca26\"],[1.0,\"#f0f921\"]]}],\"heatmap\":[{\"type\":\"heatmap\",\"colorbar\":{\"outlinewidth\":0,\"ticks\":\"\"},\"colorscale\":[[0.0,\"#0d0887\"],[0.1111111111111111,\"#46039f\"],[0.2222222222222222,\"#7201a8\"],[0.3333333333333333,\"#9c179e\"],[0.4444444444444444,\"#bd3786\"],[0.5555555555555556,\"#d8576b\"],[0.6666666666666666,\"#ed7953\"],[0.7777777777777778,\"#fb9f3a\"],[0.8888888888888888,\"#fdca26\"],[1.0,\"#f0f921\"]]}],\"heatmapgl\":[{\"type\":\"heatmapgl\",\"colorbar\":{\"outlinewidth\":0,\"ticks\":\"\"},\"colorscale\":[[0.0,\"#0d0887\"],[0.1111111111111111,\"#46039f\"],[0.2222222222222222,\"#7201a8\"],[0.3333333333333333,\"#9c179e\"],[0.4444444444444444,\"#bd3786\"],[0.5555555555555556,\"#d8576b\"],[0.6666666666666666,\"#ed7953\"],[0.7777777777777778,\"#fb9f3a\"],[0.8888888888888888,\"#fdca26\"],[1.0,\"#f0f921\"]]}],\"contourcarpet\":[{\"type\":\"contourcarpet\",\"colorbar\":{\"outlinewidth\":0,\"ticks\":\"\"}}],\"contour\":[{\"type\":\"contour\",\"colorbar\":{\"outlinewidth\":0,\"ticks\":\"\"},\"colorscale\":[[0.0,\"#0d0887\"],[0.1111111111111111,\"#46039f\"],[0.2222222222222222,\"#7201a8\"],[0.3333333333333333,\"#9c179e\"],[0.4444444444444444,\"#bd3786\"],[0.5555555555555556,\"#d8576b\"],[0.6666666666666666,\"#ed7953\"],[0.7777777777777778,\"#fb9f3a\"],[0.8888888888888888,\"#fdca26\"],[1.0,\"#f0f921\"]]}],\"surface\":[{\"type\":\"surface\",\"colorbar\":{\"outlinewidth\":0,\"ticks\":\"\"},\"colorscale\":[[0.0,\"#0d0887\"],[0.1111111111111111,\"#46039f\"],[0.2222222222222222,\"#7201a8\"],[0.3333333333333333,\"#9c179e\"],[0.4444444444444444,\"#bd3786\"],[0.5555555555555556,\"#d8576b\"],[0.6666666666666666,\"#ed7953\"],[0.7777777777777778,\"#fb9f3a\"],[0.8888888888888888,\"#fdca26\"],[1.0,\"#f0f921\"]]}],\"mesh3d\":[{\"type\":\"mesh3d\",\"colorbar\":{\"outlinewidth\":0,\"ticks\":\"\"}}],\"scatter\":[{\"fillpattern\":{\"fillmode\":\"overlay\",\"size\":10,\"solidity\":0.2},\"type\":\"scatter\"}],\"parcoords\":[{\"type\":\"parcoords\",\"line\":{\"colorbar\":{\"outlinewidth\":0,\"ticks\":\"\"}}}],\"scatterpolargl\":[{\"type\":\"scatterpolargl\",\"marker\":{\"colorbar\":{\"outlinewidth\":0,\"ticks\":\"\"}}}],\"bar\":[{\"error_x\":{\"color\":\"#2a3f5f\"},\"error_y\":{\"color\":\"#2a3f5f\"},\"marker\":{\"line\":{\"color\":\"#E5ECF6\",\"width\":0.5},\"pattern\":{\"fillmode\":\"overlay\",\"size\":10,\"solidity\":0.2}},\"type\":\"bar\"}],\"scattergeo\":[{\"type\":\"scattergeo\",\"marker\":{\"colorbar\":{\"outlinewidth\":0,\"ticks\":\"\"}}}],\"scatterpolar\":[{\"type\":\"scatterpolar\",\"marker\":{\"colorbar\":{\"outlinewidth\":0,\"ticks\":\"\"}}}],\"histogram\":[{\"marker\":{\"pattern\":{\"fillmode\":\"overlay\",\"size\":10,\"solidity\":0.2}},\"type\":\"histogram\"}],\"scattergl\":[{\"type\":\"scattergl\",\"marker\":{\"colorbar\":{\"outlinewidth\":0,\"ticks\":\"\"}}}],\"scatter3d\":[{\"type\":\"scatter3d\",\"line\":{\"colorbar\":{\"outlinewidth\":0,\"ticks\":\"\"}},\"marker\":{\"colorbar\":{\"outlinewidth\":0,\"ticks\":\"\"}}}],\"scattermapbox\":[{\"type\":\"scattermapbox\",\"marker\":{\"colorbar\":{\"outlinewidth\":0,\"ticks\":\"\"}}}],\"scatterternary\":[{\"type\":\"scatterternary\",\"marker\":{\"colorbar\":{\"outlinewidth\":0,\"ticks\":\"\"}}}],\"scattercarpet\":[{\"type\":\"scattercarpet\",\"marker\":{\"colorbar\":{\"outlinewidth\":0,\"ticks\":\"\"}}}],\"carpet\":[{\"aaxis\":{\"endlinecolor\":\"#2a3f5f\",\"gridcolor\":\"white\",\"linecolor\":\"white\",\"minorgridcolor\":\"white\",\"startlinecolor\":\"#2a3f5f\"},\"baxis\":{\"endlinecolor\":\"#2a3f5f\",\"gridcolor\":\"white\",\"linecolor\":\"white\",\"minorgridcolor\":\"white\",\"startlinecolor\":\"#2a3f5f\"},\"type\":\"carpet\"}],\"table\":[{\"cells\":{\"fill\":{\"color\":\"#EBF0F8\"},\"line\":{\"color\":\"white\"}},\"header\":{\"fill\":{\"color\":\"#C8D4E3\"},\"line\":{\"color\":\"white\"}},\"type\":\"table\"}],\"barpolar\":[{\"marker\":{\"line\":{\"color\":\"#E5ECF6\",\"width\":0.5},\"pattern\":{\"fillmode\":\"overlay\",\"size\":10,\"solidity\":0.2}},\"type\":\"barpolar\"}],\"pie\":[{\"automargin\":true,\"type\":\"pie\"}]},\"layout\":{\"autotypenumbers\":\"strict\",\"colorway\":[\"#636efa\",\"#EF553B\",\"#00cc96\",\"#ab63fa\",\"#FFA15A\",\"#19d3f3\",\"#FF6692\",\"#B6E880\",\"#FF97FF\",\"#FECB52\"],\"font\":{\"color\":\"#2a3f5f\"},\"hovermode\":\"closest\",\"hoverlabel\":{\"align\":\"left\"},\"paper_bgcolor\":\"white\",\"plot_bgcolor\":\"#E5ECF6\",\"polar\":{\"bgcolor\":\"#E5ECF6\",\"angularaxis\":{\"gridcolor\":\"white\",\"linecolor\":\"white\",\"ticks\":\"\"},\"radialaxis\":{\"gridcolor\":\"white\",\"linecolor\":\"white\",\"ticks\":\"\"}},\"ternary\":{\"bgcolor\":\"#E5ECF6\",\"aaxis\":{\"gridcolor\":\"white\",\"linecolor\":\"white\",\"ticks\":\"\"},\"baxis\":{\"gridcolor\":\"white\",\"linecolor\":\"white\",\"ticks\":\"\"},\"caxis\":{\"gridcolor\":\"white\",\"linecolor\":\"white\",\"ticks\":\"\"}},\"coloraxis\":{\"colorbar\":{\"outlinewidth\":0,\"ticks\":\"\"}},\"colorscale\":{\"sequential\":[[0.0,\"#0d0887\"],[0.1111111111111111,\"#46039f\"],[0.2222222222222222,\"#7201a8\"],[0.3333333333333333,\"#9c179e\"],[0.4444444444444444,\"#bd3786\"],[0.5555555555555556,\"#d8576b\"],[0.6666666666666666,\"#ed7953\"],[0.7777777777777778,\"#fb9f3a\"],[0.8888888888888888,\"#fdca26\"],[1.0,\"#f0f921\"]],\"sequentialminus\":[[0.0,\"#0d0887\"],[0.1111111111111111,\"#46039f\"],[0.2222222222222222,\"#7201a8\"],[0.3333333333333333,\"#9c179e\"],[0.4444444444444444,\"#bd3786\"],[0.5555555555555556,\"#d8576b\"],[0.6666666666666666,\"#ed7953\"],[0.7777777777777778,\"#fb9f3a\"],[0.8888888888888888,\"#fdca26\"],[1.0,\"#f0f921\"]],\"diverging\":[[0,\"#8e0152\"],[0.1,\"#c51b7d\"],[0.2,\"#de77ae\"],[0.3,\"#f1b6da\"],[0.4,\"#fde0ef\"],[0.5,\"#f7f7f7\"],[0.6,\"#e6f5d0\"],[0.7,\"#b8e186\"],[0.8,\"#7fbc41\"],[0.9,\"#4d9221\"],[1,\"#276419\"]]},\"xaxis\":{\"gridcolor\":\"white\",\"linecolor\":\"white\",\"ticks\":\"\",\"title\":{\"standoff\":15},\"zerolinecolor\":\"white\",\"automargin\":true,\"zerolinewidth\":2},\"yaxis\":{\"gridcolor\":\"white\",\"linecolor\":\"white\",\"ticks\":\"\",\"title\":{\"standoff\":15},\"zerolinecolor\":\"white\",\"automargin\":true,\"zerolinewidth\":2},\"scene\":{\"xaxis\":{\"backgroundcolor\":\"#E5ECF6\",\"gridcolor\":\"white\",\"linecolor\":\"white\",\"showbackground\":true,\"ticks\":\"\",\"zerolinecolor\":\"white\",\"gridwidth\":2},\"yaxis\":{\"backgroundcolor\":\"#E5ECF6\",\"gridcolor\":\"white\",\"linecolor\":\"white\",\"showbackground\":true,\"ticks\":\"\",\"zerolinecolor\":\"white\",\"gridwidth\":2},\"zaxis\":{\"backgroundcolor\":\"#E5ECF6\",\"gridcolor\":\"white\",\"linecolor\":\"white\",\"showbackground\":true,\"ticks\":\"\",\"zerolinecolor\":\"white\",\"gridwidth\":2}},\"shapedefaults\":{\"line\":{\"color\":\"#2a3f5f\"}},\"annotationdefaults\":{\"arrowcolor\":\"#2a3f5f\",\"arrowhead\":0,\"arrowwidth\":1},\"geo\":{\"bgcolor\":\"white\",\"landcolor\":\"#E5ECF6\",\"subunitcolor\":\"white\",\"showland\":true,\"showlakes\":true,\"lakecolor\":\"white\"},\"title\":{\"x\":0.05},\"mapbox\":{\"style\":\"light\"}}},\"xaxis\":{\"anchor\":\"y\",\"domain\":[0.0,1.0],\"title\":{\"text\":\"Categories\"},\"categoryorder\":\"array\",\"categoryarray\":[\"A\",\"B\",\"C\",\"D\"]},\"yaxis\":{\"anchor\":\"x\",\"domain\":[0.0,1.0],\"title\":{\"text\":\"Values\"}},\"legend\":{\"title\":{\"text\":\"Categories\"},\"tracegroupgap\":0},\"title\":{\"text\":\"Bar Plot Example\"},\"barmode\":\"relative\"},                        {\"responsive\": true}                    ).then(function(){\n",
              "                            \n",
              "var gd = document.getElementById('bc32a8f1-6935-4a7b-8e4f-553467db7af2');\n",
              "var x = new MutationObserver(function (mutations, observer) {{\n",
              "        var display = window.getComputedStyle(gd).display;\n",
              "        if (!display || display === 'none') {{\n",
              "            console.log([gd, 'removed!']);\n",
              "            Plotly.purge(gd);\n",
              "            observer.disconnect();\n",
              "        }}\n",
              "}});\n",
              "\n",
              "// Listen for the removal of the full notebook cells\n",
              "var notebookContainer = gd.closest('#notebook-container');\n",
              "if (notebookContainer) {{\n",
              "    x.observe(notebookContainer, {childList: true});\n",
              "}}\n",
              "\n",
              "// Listen for the clearing of the current output cell\n",
              "var outputEl = gd.closest('.output');\n",
              "if (outputEl) {{\n",
              "    x.observe(outputEl, {childList: true});\n",
              "}}\n",
              "\n",
              "                        })                };                            </script>        </div>\n",
              "</body>\n",
              "</html>"
            ]
          },
          "metadata": {}
        }
      ]
    },
    {
      "cell_type": "markdown",
      "source": [
        " Create a DataFrame and add a new column based on an existing column"
      ],
      "metadata": {
        "id": "BDVBGm66gz4h"
      }
    },
    {
      "cell_type": "code",
      "source": [
        "import pandas as pd\n",
        "\n",
        "# Creating a sample DataFrame\n",
        "data = {'Name': ['Alice', 'Bob', 'Charlie', 'David'],\n",
        "        'Age': [25, 30, 35, 40]}\n",
        "\n",
        "df = pd.DataFrame(data)\n",
        "\n",
        "# Adding a new column based on the 'Age' column\n",
        "df['Age Group'] = df['Age'].apply(lambda x: 'Young' if x < 30 else 'Middle-aged')\n",
        "\n",
        "print(df)\n"
      ],
      "metadata": {
        "colab": {
          "base_uri": "https://localhost:8080/"
        },
        "id": "CiJIJpOBg6Z-",
        "outputId": "a1c5b4cc-c624-4bf3-d06c-d31e8528b29a"
      },
      "execution_count": 7,
      "outputs": [
        {
          "output_type": "stream",
          "name": "stdout",
          "text": [
            "      Name  Age    Age Group\n",
            "0    Alice   25        Young\n",
            "1      Bob   30  Middle-aged\n",
            "2  Charlie   35  Middle-aged\n",
            "3    David   40  Middle-aged\n"
          ]
        }
      ]
    },
    {
      "cell_type": "markdown",
      "source": [
        "Write a program to perform element-wise multiplication of two NumPy arrays"
      ],
      "metadata": {
        "id": "VjdRjSb2iNcE"
      }
    },
    {
      "cell_type": "code",
      "source": [
        "import numpy as np\n",
        "\n",
        "# Creating two NumPy arrays\n",
        "array1 = np.array([1, 2, 3, 4])\n",
        "array2 = np.array([5, 6, 7, 8])\n",
        "\n",
        "# Performing element-wise multiplication\n",
        "result = np.multiply(array1, array2)\n",
        "\n",
        "print(\"Array 1:\", array1)\n",
        "print(\"Array 2:\", array2)\n",
        "print(\"Element-wise multiplication result:\", result)"
      ],
      "metadata": {
        "colab": {
          "base_uri": "https://localhost:8080/"
        },
        "id": "shnr3qcyiSRe",
        "outputId": "42d328d3-c070-4438-d2bc-1f4021b4c852"
      },
      "execution_count": 9,
      "outputs": [
        {
          "output_type": "stream",
          "name": "stdout",
          "text": [
            "Array 1: [1 2 3 4]\n",
            "Array 2: [5 6 7 8]\n",
            "Element-wise multiplication result: [ 5 12 21 32]\n"
          ]
        }
      ]
    },
    {
      "cell_type": "markdown",
      "source": [
        "Create a line plot with multiple lines using Matplotlib"
      ],
      "metadata": {
        "id": "wfq8LqPziijo"
      }
    },
    {
      "cell_type": "code",
      "source": [
        "import matplotlib.pyplot as plt\n",
        "\n",
        "# Sample data\n",
        "x = [1, 2, 3, 4, 5]\n",
        "y1 = [10, 20, 30, 40, 50]  # First line\n",
        "y2 = [5, 15, 25, 35, 45]   # Second line\n",
        "y3 = [2, 12, 22, 32, 42]   # Third line\n",
        "\n",
        "# Creating a line plot\n",
        "plt.plot(x, y1, label=\"Line 1\", marker='o', linestyle='-', color='blue')\n",
        "plt.plot(x, y2, label=\"Line 2\", marker='s', linestyle='--', color='red')\n",
        "plt.plot(x, y3, label=\"Line 3\", marker='^', linestyle='-.', color='green')\n",
        "\n",
        "# Adding labels and title\n",
        "plt.xlabel(\"X-axis\")\n",
        "plt.ylabel(\"Y-axis\")\n",
        "plt.title(\"Multiple Line Plot Example\")\n",
        "plt.legend()\n",
        "\n",
        "# Displaying the plot\n",
        "plt.show()\n"
      ],
      "metadata": {
        "colab": {
          "base_uri": "https://localhost:8080/",
          "height": 472
        },
        "id": "DHjm68Hrikyj",
        "outputId": "dd06e43f-6a32-407c-cc7c-468c7f392b08"
      },
      "execution_count": 10,
      "outputs": [
        {
          "output_type": "display_data",
          "data": {
            "text/plain": [
              "<Figure size 640x480 with 1 Axes>"
            ],
            "image/png": "[encoded data removed]"
          },
          "metadata": {}
        }
      ]
    },
    {
      "cell_type": "markdown",
      "source": [
        "Generate a Pandas DataFrame and filter rows where a column value is greater than a threshold"
      ],
      "metadata": {
        "id": "7ic3Y4CVi36N"
      }
    },
    {
      "cell_type": "code",
      "source": [
        "import pandas as pd\n",
        "\n",
        "# Creating a sample DataFrame\n",
        "data = {'Name': ['Alice', 'Bob', 'Charlie', 'David', 'Eve'],\n",
        "        'Score': [85, 70, 95, 60, 88]}\n",
        "\n",
        "df = pd.DataFrame(data)\n",
        "\n",
        "# Defining the threshold value\n",
        "threshold = 80\n",
        "\n",
        "# Filtering rows where 'Score' is greater than the threshold\n",
        "filtered_df = df[df['Score'] > threshold]\n",
        "\n",
        "print(\"Original DataFrame:\")\n",
        "print(df)\n",
        "\n",
        "print(\"\\nFiltered DataFrame (Score > 80):\")\n",
        "print(filtered_df)\n"
      ],
      "metadata": {
        "colab": {
          "base_uri": "https://localhost:8080/"
        },
        "id": "01qdkcEAjDjc",
        "outputId": "6721ff20-8b15-4b44-a5e2-f0a747905d90"
      },
      "execution_count": 11,
      "outputs": [
        {
          "output_type": "stream",
          "name": "stdout",
          "text": [
            "Original DataFrame:\n",
            "      Name  Score\n",
            "0    Alice     85\n",
            "1      Bob     70\n",
            "2  Charlie     95\n",
            "3    David     60\n",
            "4      Eve     88\n",
            "\n",
            "Filtered DataFrame (Score > 80):\n",
            "      Name  Score\n",
            "0    Alice     85\n",
            "2  Charlie     95\n",
            "4      Eve     88\n"
          ]
        }
      ]
    },
    {
      "cell_type": "markdown",
      "source": [
        "Create a histogram using Seaborn to visualize a distribution"
      ],
      "metadata": {
        "id": "lDaYA3m4jG3j"
      }
    },
    {
      "cell_type": "code",
      "source": [
        "import seaborn as sns\n",
        "import matplotlib.pyplot as plt\n",
        "\n",
        "# Sample data\n",
        "data = [10, 20, 20, 30, 40, 40, 40, 50, 60, 70, 70, 80, 90, 100]\n",
        "\n",
        "# Creating a histogram\n",
        "plt.figure(figsize=(6, 4))\n",
        "sns.histplot(data, bins=10, kde=True, color='blue')\n",
        "\n",
        "# Adding labels and title\n",
        "plt.xlabel(\"Value\")\n",
        "plt.ylabel(\"Frequency\")\n",
        "plt.title(\"Histogram of Sample Data\")\n",
        "\n",
        "# Displaying the plot\n",
        "plt.show()\n"
      ],
      "metadata": {
        "colab": {
          "base_uri": "https://localhost:8080/",
          "height": 410
        },
        "id": "Nog1iAU2jiFn",
        "outputId": "cdeae6e6-0579-4191-f026-126c32973e5c"
      },
      "execution_count": 12,
      "outputs": [
        {
          "output_type": "display_data",
          "data": {
            "text/plain": [
              "<Figure size 600x400 with 1 Axes>"
            ],
            "image/png": "[encoded data removed]"
          },
          "metadata": {}
        }
      ]
    },
    {
      "cell_type": "markdown",
      "source": [
        " Perform matrix multiplication using NumPy"
      ],
      "metadata": {
        "id": "HH-4XKK5jmJ6"
      }
    },
    {
      "cell_type": "code",
      "source": [
        "import numpy as np\n",
        "\n",
        "# Creating two matrices\n",
        "matrix1 = np.array([[1, 2], [3, 4]])\n",
        "matrix2 = np.array([[5, 6], [7, 8]])\n",
        "\n",
        "# Performing matrix multiplication using np.dot()\n",
        "result_dot = np.dot(matrix1, matrix2)\n",
        "\n",
        "# Performing matrix multiplication using @ operator\n",
        "result_at = matrix1 @ matrix2\n",
        "\n",
        "print(\"Matrix 1:\\n\", matrix1)\n",
        "print(\"Matrix 2:\\n\", matrix2)\n",
        "print(\"\\nResult using np.dot():\\n\", result_dot)\n",
        "print(\"\\nResult using @ operator:\\n\", result_at)\n"
      ],
      "metadata": {
        "colab": {
          "base_uri": "https://localhost:8080/"
        },
        "id": "LNoVmJ6WjrDk",
        "outputId": "a8fa6a20-3bdc-4dd6-9f34-c9f1c654df64"
      },
      "execution_count": 13,
      "outputs": [
        {
          "output_type": "stream",
          "name": "stdout",
          "text": [
            "Matrix 1:\n",
            " [[1 2]\n",
            " [3 4]]\n",
            "Matrix 2:\n",
            " [[5 6]\n",
            " [7 8]]\n",
            "\n",
            "Result using np.dot():\n",
            " [[19 22]\n",
            " [43 50]]\n",
            "\n",
            "Result using @ operator:\n",
            " [[19 22]\n",
            " [43 50]]\n"
          ]
        }
      ]
    },
    {
      "cell_type": "markdown",
      "source": [
        "Use Pandas to load a CSV file and display its first 5 rows"
      ],
      "metadata": {
        "id": "QH59_D8vjxW2"
      }
    },
    {
      "cell_type": "code",
      "source": [
        "import pandas as pd\n",
        "from google.colab import files\n",
        "\n",
        "# Prompt user to upload a CSV file\n",
        "uploaded = files.upload()\n",
        "\n",
        "# Read the uploaded file into a DataFrame\n",
        "# This grabs the first uploaded file from the dictionary\n",
        "filename = next(iter(uploaded))\n",
        "df = pd.read_csv(filename)\n",
        "\n",
        "# Display the first 5 rows\n",
        "print(df.head())\n"
      ],
      "metadata": {
        "colab": {
          "base_uri": "https://localhost:8080/",
          "height": 298
        },
        "id": "qroe0LZEkQpR",
        "outputId": "cf08addb-3b4c-416c-bba0-4ce86f0a69d6"
      },
      "execution_count": 21,
      "outputs": [
        {
          "output_type": "display_data",
          "data": {
            "text/plain": [
              "<IPython.core.display.HTML object>"
            ],
            "text/html": [
              "\n",
              "     <input type=\"file\" id=\"files-4c9e6afc-d460-4d26-b896-c211ccc684de\" name=\"files[]\" multiple disabled\n",
              "        style=\"border:none\" />\n",
              "     <output id=\"result-4c9e6afc-d460-4d26-b896-c211ccc684de\">\n",
              "      Upload widget is only available when the cell has been executed in the\n",
              "      current browser session. Please rerun this cell to enable.\n",
              "      </output>\n",
              "      <script>// Copyright 2017 Google LLC\n",
              "//\n",
              "// Licensed under the Apache License, Version 2.0 (the \"License\");\n",
              "// you may not use this file except in compliance with the License.\n",
              "// You may obtain a copy of the License at\n",
              "//\n",
              "//      http://www.apache.org/licenses/LICENSE-2.0\n",
              "//\n",
              "// Unless required by applicable law or agreed to in writing, software\n",
              "// distributed under the License is distributed on an \"AS IS\" BASIS,\n",
              "// WITHOUT WARRANTIES OR CONDITIONS OF ANY KIND, either express or implied.\n",
              "// See the License for the specific language governing permissions and\n",
              "// limitations under the License.\n",
              "\n",
              "/**\n",
              " * @fileoverview Helpers for google.colab Python module.\n",
              " */\n",
              "(function(scope) {\n",
              "function span(text, styleAttributes = {}) {\n",
              "  const element = document.createElement('span');\n",
              "  element.textContent = text;\n",
              "  for (const key of Object.keys(styleAttributes)) {\n",
              "    element.style[key] = styleAttributes[key];\n",
              "  }\n",
              "  return element;\n",
              "}\n",
              "\n",
              "// Max number of bytes which will be uploaded at a time.\n",
              "const MAX_PAYLOAD_SIZE = 100 * 1024;\n",
              "\n",
              "function _uploadFiles(inputId, outputId) {\n",
              "  const steps = uploadFilesStep(inputId, outputId);\n",
              "  const outputElement = document.getElementById(outputId);\n",
              "  // Cache steps on the outputElement to make it available for the next call\n",
              "  // to uploadFilesContinue from Python.\n",
              "  outputElement.steps = steps;\n",
              "\n",
              "  return _uploadFilesContinue(outputId);\n",
              "}\n",
              "\n",
              "// This is roughly an async generator (not supported in the browser yet),\n",
              "// where there are multiple asynchronous steps and the Python side is going\n",
              "// to poll for completion of each step.\n",
              "// This uses a Promise to block the python side on completion of each step,\n",
              "// then passes the result of the previous step as the input to the next step.\n",
              "function _uploadFilesContinue(outputId) {\n",
              "  const outputElement = document.getElementById(outputId);\n",
              "  const steps = outputElement.steps;\n",
              "\n",
              "  const next = steps.next(outputElement.lastPromiseValue);\n",
              "  return Promise.resolve(next.value.promise).then((value) => {\n",
              "    // Cache the last promise value to make it available to the next\n",
              "    // step of the generator.\n",
              "    outputElement.lastPromiseValue = value;\n",
              "    return next.value.response;\n",
              "  });\n",
              "}\n",
              "\n",
              "/**\n",
              " * Generator function which is called between each async step of the upload\n",
              " * process.\n",
              " * @param {string} inputId Element ID of the input file picker element.\n",
              " * @param {string} outputId Element ID of the output display.\n",
              " * @return {!Iterable<!Object>} Iterable of next steps.\n",
              " */\n",
              "function* uploadFilesStep(inputId, outputId) {\n",
              "  const inputElement = document.getElementById(inputId);\n",
              "  inputElement.disabled = false;\n",
              "\n",
              "  const outputElement = document.getElementById(outputId);\n",
              "  outputElement.innerHTML = '';\n",
              "\n",
              "  const pickedPromise = new Promise((resolve) => {\n",
              "    inputElement.addEventListener('change', (e) => {\n",
              "      resolve(e.target.files);\n",
              "    });\n",
              "  });\n",
              "\n",
              "  const cancel = document.createElement('button');\n",
              "  inputElement.parentElement.appendChild(cancel);\n",
              "  cancel.textContent = 'Cancel upload';\n",
              "  const cancelPromise = new Promise((resolve) => {\n",
              "    cancel.onclick = () => {\n",
              "      resolve(null);\n",
              "    };\n",
              "  });\n",
              "\n",
              "  // Wait for the user to pick the files.\n",
              "  const files = yield {\n",
              "    promise: Promise.race([pickedPromise, cancelPromise]),\n",
              "    response: {\n",
              "      action: 'starting',\n",
              "    }\n",
              "  };\n",
              "\n",
              "  cancel.remove();\n",
              "\n",
              "  // Disable the input element since further picks are not allowed.\n",
              "  inputElement.disabled = true;\n",
              "\n",
              "  if (!files) {\n",
              "    return {\n",
              "      response: {\n",
              "        action: 'complete',\n",
              "      }\n",
              "    };\n",
              "  }\n",
              "\n",
              "  for (const file of files) {\n",
              "    const li = document.createElement('li');\n",
              "    li.append(span(file.name, {fontWeight: 'bold'}));\n",
              "    li.append(span(\n",
              "        `(${file.type || 'n/a'}) - ${file.size} bytes, ` +\n",
              "        `last modified: ${\n",
              "            file.lastModifiedDate ? file.lastModifiedDate.toLocaleDateString() :\n",
              "                                    'n/a'} - `));\n",
              "    const percent = span('0% done');\n",
              "    li.appendChild(percent);\n",
              "\n",
              "    outputElement.appendChild(li);\n",
              "\n",
              "    const fileDataPromise = new Promise((resolve) => {\n",
              "      const reader = new FileReader();\n",
              "      reader.onload = (e) => {\n",
              "        resolve(e.target.result);\n",
              "      };\n",
              "      reader.readAsArrayBuffer(file);\n",
              "    });\n",
              "    // Wait for the data to be ready.\n",
              "    let fileData = yield {\n",
              "      promise: fileDataPromise,\n",
              "      response: {\n",
              "        action: 'continue',\n",
              "      }\n",
              "    };\n",
              "\n",
              "    // Use a chunked sending to avoid message size limits. See b/62115660.\n",
              "    let position = 0;\n",
              "    do {\n",
              "      const length = Math.min(fileData.byteLength - position, MAX_PAYLOAD_SIZE);\n",
              "      const chunk = new Uint8Array(fileData, position, length);\n",
              "      position += length;\n",
              "\n",
              "      const base64 = btoa(String.fromCharCode.apply(null, chunk));\n",
              "      yield {\n",
              "        response: {\n",
              "          action: 'append',\n",
              "          file: file.name,\n",
              "          data: base64,\n",
              "        },\n",
              "      };\n",
              "\n",
              "      let percentDone = fileData.byteLength === 0 ?\n",
              "          100 :\n",
              "          Math.round((position / fileData.byteLength) * 100);\n",
              "      percent.textContent = `${percentDone}% done`;\n",
              "\n",
              "    } while (position < fileData.byteLength);\n",
              "  }\n",
              "\n",
              "  // All done.\n",
              "  yield {\n",
              "    response: {\n",
              "      action: 'complete',\n",
              "    }\n",
              "  };\n",
              "}\n",
              "\n",
              "scope.google = scope.google || {};\n",
              "scope.google.colab = scope.google.colab || {};\n",
              "scope.google.colab._files = {\n",
              "  _uploadFiles,\n",
              "  _uploadFilesContinue,\n",
              "};\n",
              "})(self);\n",
              "</script> "
            ]
          },
          "metadata": {}
        },
        {
          "output_type": "stream",
          "name": "stdout",
          "text": [
            "Saving annual-enterprise-survey-2023-financial-year-provisional-size-bands.csv to annual-enterprise-survey-2023-financial-year-provisional-size-bands.csv\n",
            "   year industry_code_ANZSIC               industry_name_ANZSIC rme_size_grp  \\\n",
            "0  2011                    A  Agriculture, Forestry and Fishing          a_0   \n",
            "1  2011                    A  Agriculture, Forestry and Fishing          a_0   \n",
            "2  2011                    A  Agriculture, Forestry and Fishing          a_0   \n",
            "3  2011                    A  Agriculture, Forestry and Fishing          a_0   \n",
            "4  2011                    A  Agriculture, Forestry and Fishing          a_0   \n",
            "\n",
            "                                          variable  value               unit  \n",
            "0                                    Activity unit  46134              COUNT  \n",
            "1                           Rolling mean employees      0              COUNT  \n",
            "2                          Salaries and wages paid    279  DOLLARS(millions)  \n",
            "3  Sales, government funding, grants and subsidies   8187  DOLLARS(millions)  \n",
            "4                                     Total income   8866  DOLLARS(millions)  \n"
          ]
        }
      ]
    },
    {
      "cell_type": "markdown",
      "source": [
        "Create a 3D scatter plot using Plotly"
      ],
      "metadata": {
        "id": "Emg1Dao9phRf"
      }
    },
    {
      "cell_type": "code",
      "source": [
        "import plotly.express as px\n",
        "import pandas as pd\n",
        "\n",
        "# Sample data\n",
        "data = {'X': [1, 2, 3, 4, 5],\n",
        "        'Y': [10, 15, 20, 25, 30],\n",
        "        'Z': [100, 200, 300, 400, 500]}\n",
        "\n",
        "df = pd.DataFrame(data)\n",
        "\n",
        "# Creating a 3D scatter plot\n",
        "fig = px.scatter_3d(df, x='X', y='Y', z='Z', color='Z',\n",
        "                     title=\"3D Scatter Plot Example\")\n",
        "\n",
        "# Displaying the plot\n",
        "fig.show()\n"
      ],
      "metadata": {
        "colab": {
          "base_uri": "https://localhost:8080/",
          "height": 542
        },
        "id": "iopHrIYbpg1K",
        "outputId": "5a69a845-771f-4936-82cb-46e283ea0860"
      },
      "execution_count": 22,
      "outputs": [
        {
          "output_type": "display_data",
          "data": {
            "text/html": [
              "<html>\n",
              "<head><meta charset=\"utf-8\" /></head>\n",
              "<body>\n",
              "    <div>            <script src=\"https://cdnjs.cloudflare.com/ajax/libs/mathjax/2.7.5/MathJax.js?config=TeX-AMS-MML_SVG\"></script><script type=\"text/javascript\">if (window.MathJax && window.MathJax.Hub && window.MathJax.Hub.Config) {window.MathJax.Hub.Config({SVG: {font: \"STIX-Web\"}});}</script>                <script type=\"text/javascript\">window.PlotlyConfig = {MathJaxConfig: 'local'};</script>\n",
              "        <script charset=\"utf-8\" src=\"https://cdn.plot.ly/plotly-2.35.2.min.js\"></script>                <div id=\"5623a21b-30e8-4958-b98f-9e07b5053f0f\" class=\"plotly-graph-div\" style=\"height:525px; width:100%;\"></div>            <script type=\"text/javascript\">                                    window.PLOTLYENV=window.PLOTLYENV || {};                                    if (document.getElementById(\"5623a21b-30e8-4958-b98f-9e07b5053f0f\")) {                    Plotly.newPlot(                        \"5623a21b-30e8-4958-b98f-9e07b5053f0f\",                        [{\"hovertemplate\":\"X=%{x}\\u003cbr\\u003eY=%{y}\\u003cbr\\u003eZ=%{marker.color}\\u003cextra\\u003e\\u003c\\u002fextra\\u003e\",\"legendgroup\":\"\",\"marker\":{\"color\":[100,200,300,400,500],\"coloraxis\":\"coloraxis\",\"symbol\":\"circle\"},\"mode\":\"markers\",\"name\":\"\",\"scene\":\"scene\",\"showlegend\":false,\"x\":[1,2,3,4,5],\"y\":[10,15,20,25,30],\"z\":[100,200,300,400,500],\"type\":\"scatter3d\"}],                        {\"template\":{\"data\":{\"histogram2dcontour\":[{\"type\":\"histogram2dcontour\",\"colorbar\":{\"outlinewidth\":0,\"ticks\":\"\"},\"colorscale\":[[0.0,\"#0d0887\"],[0.1111111111111111,\"#46039f\"],[0.2222222222222222,\"#7201a8\"],[0.3333333333333333,\"#9c179e\"],[0.4444444444444444,\"#bd3786\"],[0.5555555555555556,\"#d8576b\"],[0.6666666666666666,\"#ed7953\"],[0.7777777777777778,\"#fb9f3a\"],[0.8888888888888888,\"#fdca26\"],[1.0,\"#f0f921\"]]}],\"choropleth\":[{\"type\":\"choropleth\",\"colorbar\":{\"outlinewidth\":0,\"ticks\":\"\"}}],\"histogram2d\":[{\"type\":\"histogram2d\",\"colorbar\":{\"outlinewidth\":0,\"ticks\":\"\"},\"colorscale\":[[0.0,\"#0d0887\"],[0.1111111111111111,\"#46039f\"],[0.2222222222222222,\"#7201a8\"],[0.3333333333333333,\"#9c179e\"],[0.4444444444444444,\"#bd3786\"],[0.5555555555555556,\"#d8576b\"],[0.6666666666666666,\"#ed7953\"],[0.7777777777777778,\"#fb9f3a\"],[0.8888888888888888,\"#fdca26\"],[1.0,\"#f0f921\"]]}],\"heatmap\":[{\"type\":\"heatmap\",\"colorbar\":{\"outlinewidth\":0,\"ticks\":\"\"},\"colorscale\":[[0.0,\"#0d0887\"],[0.1111111111111111,\"#46039f\"],[0.2222222222222222,\"#7201a8\"],[0.3333333333333333,\"#9c179e\"],[0.4444444444444444,\"#bd3786\"],[0.5555555555555556,\"#d8576b\"],[0.6666666666666666,\"#ed7953\"],[0.7777777777777778,\"#fb9f3a\"],[0.8888888888888888,\"#fdca26\"],[1.0,\"#f0f921\"]]}],\"heatmapgl\":[{\"type\":\"heatmapgl\",\"colorbar\":{\"outlinewidth\":0,\"ticks\":\"\"},\"colorscale\":[[0.0,\"#0d0887\"],[0.1111111111111111,\"#46039f\"],[0.2222222222222222,\"#7201a8\"],[0.3333333333333333,\"#9c179e\"],[0.4444444444444444,\"#bd3786\"],[0.5555555555555556,\"#d8576b\"],[0.6666666666666666,\"#ed7953\"],[0.7777777777777778,\"#fb9f3a\"],[0.8888888888888888,\"#fdca26\"],[1.0,\"#f0f921\"]]}],\"contourcarpet\":[{\"type\":\"contourcarpet\",\"colorbar\":{\"outlinewidth\":0,\"ticks\":\"\"}}],\"contour\":[{\"type\":\"contour\",\"colorbar\":{\"outlinewidth\":0,\"ticks\":\"\"},\"colorscale\":[[0.0,\"#0d0887\"],[0.1111111111111111,\"#46039f\"],[0.2222222222222222,\"#7201a8\"],[0.3333333333333333,\"#9c179e\"],[0.4444444444444444,\"#bd3786\"],[0.5555555555555556,\"#d8576b\"],[0.6666666666666666,\"#ed7953\"],[0.7777777777777778,\"#fb9f3a\"],[0.8888888888888888,\"#fdca26\"],[1.0,\"#f0f921\"]]}],\"surface\":[{\"type\":\"surface\",\"colorbar\":{\"outlinewidth\":0,\"ticks\":\"\"},\"colorscale\":[[0.0,\"#0d0887\"],[0.1111111111111111,\"#46039f\"],[0.2222222222222222,\"#7201a8\"],[0.3333333333333333,\"#9c179e\"],[0.4444444444444444,\"#bd3786\"],[0.5555555555555556,\"#d8576b\"],[0.6666666666666666,\"#ed7953\"],[0.7777777777777778,\"#fb9f3a\"],[0.8888888888888888,\"#fdca26\"],[1.0,\"#f0f921\"]]}],\"mesh3d\":[{\"type\":\"mesh3d\",\"colorbar\":{\"outlinewidth\":0,\"ticks\":\"\"}}],\"scatter\":[{\"fillpattern\":{\"fillmode\":\"overlay\",\"size\":10,\"solidity\":0.2},\"type\":\"scatter\"}],\"parcoords\":[{\"type\":\"parcoords\",\"line\":{\"colorbar\":{\"outlinewidth\":0,\"ticks\":\"\"}}}],\"scatterpolargl\":[{\"type\":\"scatterpolargl\",\"marker\":{\"colorbar\":{\"outlinewidth\":0,\"ticks\":\"\"}}}],\"bar\":[{\"error_x\":{\"color\":\"#2a3f5f\"},\"error_y\":{\"color\":\"#2a3f5f\"},\"marker\":{\"line\":{\"color\":\"#E5ECF6\",\"width\":0.5},\"pattern\":{\"fillmode\":\"overlay\",\"size\":10,\"solidity\":0.2}},\"type\":\"bar\"}],\"scattergeo\":[{\"type\":\"scattergeo\",\"marker\":{\"colorbar\":{\"outlinewidth\":0,\"ticks\":\"\"}}}],\"scatterpolar\":[{\"type\":\"scatterpolar\",\"marker\":{\"colorbar\":{\"outlinewidth\":0,\"ticks\":\"\"}}}],\"histogram\":[{\"marker\":{\"pattern\":{\"fillmode\":\"overlay\",\"size\":10,\"solidity\":0.2}},\"type\":\"histogram\"}],\"scattergl\":[{\"type\":\"scattergl\",\"marker\":{\"colorbar\":{\"outlinewidth\":0,\"ticks\":\"\"}}}],\"scatter3d\":[{\"type\":\"scatter3d\",\"line\":{\"colorbar\":{\"outlinewidth\":0,\"ticks\":\"\"}},\"marker\":{\"colorbar\":{\"outlinewidth\":0,\"ticks\":\"\"}}}],\"scattermapbox\":[{\"type\":\"scattermapbox\",\"marker\":{\"colorbar\":{\"outlinewidth\":0,\"ticks\":\"\"}}}],\"scatterternary\":[{\"type\":\"scatterternary\",\"marker\":{\"colorbar\":{\"outlinewidth\":0,\"ticks\":\"\"}}}],\"scattercarpet\":[{\"type\":\"scattercarpet\",\"marker\":{\"colorbar\":{\"outlinewidth\":0,\"ticks\":\"\"}}}],\"carpet\":[{\"aaxis\":{\"endlinecolor\":\"#2a3f5f\",\"gridcolor\":\"white\",\"linecolor\":\"white\",\"minorgridcolor\":\"white\",\"startlinecolor\":\"#2a3f5f\"},\"baxis\":{\"endlinecolor\":\"#2a3f5f\",\"gridcolor\":\"white\",\"linecolor\":\"white\",\"minorgridcolor\":\"white\",\"startlinecolor\":\"#2a3f5f\"},\"type\":\"carpet\"}],\"table\":[{\"cells\":{\"fill\":{\"color\":\"#EBF0F8\"},\"line\":{\"color\":\"white\"}},\"header\":{\"fill\":{\"color\":\"#C8D4E3\"},\"line\":{\"color\":\"white\"}},\"type\":\"table\"}],\"barpolar\":[{\"marker\":{\"line\":{\"color\":\"#E5ECF6\",\"width\":0.5},\"pattern\":{\"fillmode\":\"overlay\",\"size\":10,\"solidity\":0.2}},\"type\":\"barpolar\"}],\"pie\":[{\"automargin\":true,\"type\":\"pie\"}]},\"layout\":{\"autotypenumbers\":\"strict\",\"colorway\":[\"#636efa\",\"#EF553B\",\"#00cc96\",\"#ab63fa\",\"#FFA15A\",\"#19d3f3\",\"#FF6692\",\"#B6E880\",\"#FF97FF\",\"#FECB52\"],\"font\":{\"color\":\"#2a3f5f\"},\"hovermode\":\"closest\",\"hoverlabel\":{\"align\":\"left\"},\"paper_bgcolor\":\"white\",\"plot_bgcolor\":\"#E5ECF6\",\"polar\":{\"bgcolor\":\"#E5ECF6\",\"angularaxis\":{\"gridcolor\":\"white\",\"linecolor\":\"white\",\"ticks\":\"\"},\"radialaxis\":{\"gridcolor\":\"white\",\"linecolor\":\"white\",\"ticks\":\"\"}},\"ternary\":{\"bgcolor\":\"#E5ECF6\",\"aaxis\":{\"gridcolor\":\"white\",\"linecolor\":\"white\",\"ticks\":\"\"},\"baxis\":{\"gridcolor\":\"white\",\"linecolor\":\"white\",\"ticks\":\"\"},\"caxis\":{\"gridcolor\":\"white\",\"linecolor\":\"white\",\"ticks\":\"\"}},\"coloraxis\":{\"colorbar\":{\"outlinewidth\":0,\"ticks\":\"\"}},\"colorscale\":{\"sequential\":[[0.0,\"#0d0887\"],[0.1111111111111111,\"#46039f\"],[0.2222222222222222,\"#7201a8\"],[0.3333333333333333,\"#9c179e\"],[0.4444444444444444,\"#bd3786\"],[0.5555555555555556,\"#d8576b\"],[0.6666666666666666,\"#ed7953\"],[0.7777777777777778,\"#fb9f3a\"],[0.8888888888888888,\"#fdca26\"],[1.0,\"#f0f921\"]],\"sequentialminus\":[[0.0,\"#0d0887\"],[0.1111111111111111,\"#46039f\"],[0.2222222222222222,\"#7201a8\"],[0.3333333333333333,\"#9c179e\"],[0.4444444444444444,\"#bd3786\"],[0.5555555555555556,\"#d8576b\"],[0.6666666666666666,\"#ed7953\"],[0.7777777777777778,\"#fb9f3a\"],[0.8888888888888888,\"#fdca26\"],[1.0,\"#f0f921\"]],\"diverging\":[[0,\"#8e0152\"],[0.1,\"#c51b7d\"],[0.2,\"#de77ae\"],[0.3,\"#f1b6da\"],[0.4,\"#fde0ef\"],[0.5,\"#f7f7f7\"],[0.6,\"#e6f5d0\"],[0.7,\"#b8e186\"],[0.8,\"#7fbc41\"],[0.9,\"#4d9221\"],[1,\"#276419\"]]},\"xaxis\":{\"gridcolor\":\"white\",\"linecolor\":\"white\",\"ticks\":\"\",\"title\":{\"standoff\":15},\"zerolinecolor\":\"white\",\"automargin\":true,\"zerolinewidth\":2},\"yaxis\":{\"gridcolor\":\"white\",\"linecolor\":\"white\",\"ticks\":\"\",\"title\":{\"standoff\":15},\"zerolinecolor\":\"white\",\"automargin\":true,\"zerolinewidth\":2},\"scene\":{\"xaxis\":{\"backgroundcolor\":\"#E5ECF6\",\"gridcolor\":\"white\",\"linecolor\":\"white\",\"showbackground\":true,\"ticks\":\"\",\"zerolinecolor\":\"white\",\"gridwidth\":2},\"yaxis\":{\"backgroundcolor\":\"#E5ECF6\",\"gridcolor\":\"white\",\"linecolor\":\"white\",\"showbackground\":true,\"ticks\":\"\",\"zerolinecolor\":\"white\",\"gridwidth\":2},\"zaxis\":{\"backgroundcolor\":\"#E5ECF6\",\"gridcolor\":\"white\",\"linecolor\":\"white\",\"showbackground\":true,\"ticks\":\"\",\"zerolinecolor\":\"white\",\"gridwidth\":2}},\"shapedefaults\":{\"line\":{\"color\":\"#2a3f5f\"}},\"annotationdefaults\":{\"arrowcolor\":\"#2a3f5f\",\"arrowhead\":0,\"arrowwidth\":1},\"geo\":{\"bgcolor\":\"white\",\"landcolor\":\"#E5ECF6\",\"subunitcolor\":\"white\",\"showland\":true,\"showlakes\":true,\"lakecolor\":\"white\"},\"title\":{\"x\":0.05},\"mapbox\":{\"style\":\"light\"}}},\"scene\":{\"domain\":{\"x\":[0.0,1.0],\"y\":[0.0,1.0]},\"xaxis\":{\"title\":{\"text\":\"X\"}},\"yaxis\":{\"title\":{\"text\":\"Y\"}},\"zaxis\":{\"title\":{\"text\":\"Z\"}}},\"coloraxis\":{\"colorbar\":{\"title\":{\"text\":\"Z\"}},\"colorscale\":[[0.0,\"#0d0887\"],[0.1111111111111111,\"#46039f\"],[0.2222222222222222,\"#7201a8\"],[0.3333333333333333,\"#9c179e\"],[0.4444444444444444,\"#bd3786\"],[0.5555555555555556,\"#d8576b\"],[0.6666666666666666,\"#ed7953\"],[0.7777777777777778,\"#fb9f3a\"],[0.8888888888888888,\"#fdca26\"],[1.0,\"#f0f921\"]]},\"legend\":{\"tracegroupgap\":0},\"title\":{\"text\":\"3D Scatter Plot Example\"}},                        {\"responsive\": true}                    ).then(function(){\n",
              "                            \n",
              "var gd = document.getElementById('5623a21b-30e8-4958-b98f-9e07b5053f0f');\n",
              "var x = new MutationObserver(function (mutations, observer) {{\n",
              "        var display = window.getComputedStyle(gd).display;\n",
              "        if (!display || display === 'none') {{\n",
              "            console.log([gd, 'removed!']);\n",
              "            Plotly.purge(gd);\n",
              "            observer.disconnect();\n",
              "        }}\n",
              "}});\n",
              "\n",
              "// Listen for the removal of the full notebook cells\n",
              "var notebookContainer = gd.closest('#notebook-container');\n",
              "if (notebookContainer) {{\n",
              "    x.observe(notebookContainer, {childList: true});\n",
              "}}\n",
              "\n",
              "// Listen for the clearing of the current output cell\n",
              "var outputEl = gd.closest('.output');\n",
              "if (outputEl) {{\n",
              "    x.observe(outputEl, {childList: true});\n",
              "}}\n",
              "\n",
              "                        })                };                            </script>        </div>\n",
              "</body>\n",
              "</html>"
            ]
          },
          "metadata": {}
        }
      ]
    }
  ]
}